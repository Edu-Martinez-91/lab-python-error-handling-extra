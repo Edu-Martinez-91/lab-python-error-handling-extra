{
 "cells": [
  {
   "cell_type": "markdown",
   "id": "25d7736c-ba17-4aff-b6bb-66eba20fbf4e",
   "metadata": {},
   "source": [
    "# Lab | Error Handling"
   ]
  },
  {
   "cell_type": "markdown",
   "id": "6f8e446f-16b4-4e21-92e7-9d3d1eb551b6",
   "metadata": {},
   "source": [
    "Objective: Practice how to identify, handle and recover from potential errors in Python code using try-except blocks."
   ]
  },
  {
   "cell_type": "markdown",
   "id": "e253e768-aed8-4791-a800-87add1204afa",
   "metadata": {},
   "source": [
    "## Challenge \n",
    "\n",
    "Paste here your lab *functions extra* solutions. Apply error handling techniques to each function using try-except blocks. "
   ]
  },
  {
   "cell_type": "markdown",
   "id": "9180ff86-c3fe-4152-a609-081a287fa1af",
   "metadata": {},
   "source": [
    "The try-except block in Python is designed to handle exceptions and provide a fallback mechanism when code encounters errors. By enclosing the code that could potentially throw errors in a try block, followed by specific or general exception handling in the except block, we can gracefully recover from errors and continue program execution.\n",
    "\n",
    "However, there may be cases where an input may not produce an immediate error, but still needs to be addressed. In such situations, it can be useful to explicitly raise an error using the \"raise\" keyword, either to draw attention to the issue or handle it elsewhere in the program.\n",
    "\n",
    "Modify the code to handle possible errors in Python, it is recommended to use `try-except-else-finally` blocks, incorporate the `raise` keyword where necessary, and print meaningful error messages to alert users of any issues that may occur during program execution.\n",
    "\n"
   ]
  },
  {
   "cell_type": "code",
   "execution_count": 48,
   "id": "df908bed-acc6-4b67-b33a-f3b1c564a49f",
   "metadata": {},
   "outputs": [
    {
     "name": "stdout",
     "output_type": "stream",
     "text": [
      "TypeError: The element must be iterable\n"
     ]
    }
   ],
   "source": [
    "def get_unique_list(lst):\n",
    "    try: \n",
    "        set_1=set(lst)\n",
    "        lst=list(set_1)\n",
    "        return lst \n",
    "    except TypeError:\n",
    "        print(\"TypeError: The element must be iterable\")\n",
    "    \n",
    "\n",
    "list_1=2\n",
    "\n",
    "get_unique_list(list_1)\n"
   ]
  },
  {
   "cell_type": "code",
   "execution_count": 54,
   "id": "7d5c8e34-a116-4428-ab9d-e0e15e338fff",
   "metadata": {},
   "outputs": [
    {
     "data": {
      "text/plain": [
       "'Uppercase count: 2, Lowercase count: 49, tuple: (2, 49).'"
      ]
     },
     "execution_count": 54,
     "metadata": {},
     "output_type": "execute_result"
    }
   ],
   "source": [
    "def count_case(string):\n",
    "    try:\n",
    "        if not isinstance(string,str):\n",
    "            raise TypeError (\"The input must be a string\")\n",
    "        string_upp=len([i for i in string if i.isupper()])\n",
    "        string_low=len([i for i in string if i.islower()])\n",
    "    except TypeError:\n",
    "        print(\"TypeError: The input must be a string\")   \n",
    "    return f\"Uppercase count: {string_upp}, Lowercase count: {string_low}, tuple: {string_upp,string_low}.\"\n",
    "\n",
    "\n",
    "\n",
    "texto=\"Me caso la semana que viene. Me llevaré a alguien como invitado.\"\n",
    "count_case(texto)"
   ]
  },
  {
   "cell_type": "code",
   "execution_count": 64,
   "id": "c15b91d4-cfd6-423b-9f36-76012b8792b8",
   "metadata": {},
   "outputs": [
    {
     "data": {
      "text/plain": [
       "'No quiero más lentejas  Deja de molestarme  agobiarme  incordiarme  Me has entendido '"
      ]
     },
     "execution_count": 64,
     "metadata": {},
     "output_type": "execute_result"
    }
   ],
   "source": [
    "import string\n",
    "\n",
    "texto=\"No quiero más lentejas! Deja de molestarme, agobiarme, incordiarme. Me has entendido?\" \n",
    "def remove_punctuation(sentence):\n",
    "    try:\n",
    "        sentence_new=sentence.replace(\",\",\" \").replace(\".\",\" \").replace(\"!\",\" \").replace(\"?\",\" \")\n",
    "        \n",
    "        return sentence_new\n",
    "    except AttributeError:\n",
    "        print(\"Error, the number must be a string\")\n",
    "\n",
    "remove_punctuation(texto)"
   ]
  },
  {
   "cell_type": "code",
   "execution_count": 77,
   "id": "ff8fc44b-3715-44c3-86aa-a9b83a2f247a",
   "metadata": {},
   "outputs": [
    {
     "data": {
      "text/plain": [
       "49"
      ]
     },
     "execution_count": 77,
     "metadata": {},
     "output_type": "execute_result"
    }
   ],
   "source": [
    "def word_count(sentence):\n",
    "    try:\n",
    "        translator = str.maketrans('', '', string.punctuation) \n",
    "        new_sentence = sentence.translate(translator).split()  \n",
    "        return len(new_sentence)\n",
    "    except AttributeError:\n",
    "        print(\"Error, the argument must be a string\")\n",
    "txt=\"\"\"Counts the number of words in a given sentence. To do this properly, first it removes punctuation from the sentence. Note: A word is defined as a sequence of characters separated by spaces. We can assume that there will be no leading or trailing spaces in the input sentence.\"\"\"\n",
    "\n",
    "word_count(txt)"
   ]
  },
  {
   "cell_type": "code",
   "execution_count": 101,
   "id": "9c314ca2-9cdb-488b-8f26-6a89a1a55858",
   "metadata": {},
   "outputs": [],
   "source": [
    "def suma(num1,num2):\n",
    "    try:\n",
    "        result=num1+num2\n",
    "        return result\n",
    "    except TypeError:\n",
    "        print(\"You cannot add a string with a digit\")\n",
    "        return None\n",
    "\n",
    "def substraction(num1,num2):\n",
    "    try:\n",
    "        result=num1-num2\n",
    "        return result\n",
    "    except TypeError:\n",
    "        print(\"No string is substractable from another\")\n",
    "        return None\n",
    "        \n",
    "def multiplication(num1,num2):\n",
    "    try:\n",
    "        result=num1*num2\n",
    "        return result\n",
    "    except TypeError:\n",
    "        print(\"Please, two integers are needed as arguments\")\n",
    "        return None\n",
    "\n",
    "def division(num1,num2):\n",
    "    try:\n",
    "        result=num1/num2\n",
    "        return result\n",
    "    except ZeroDivisionError:\n",
    "        print(\"No number is divisible by 0\")\n",
    "        return None\n",
    "    except TypeError:\n",
    "        print(\"Please, two integers are needed as arguments\")\n",
    "        return None\n",
    "\n",
    "def simple_calculator(num1,num2,operator):\n",
    "    try:\n",
    "        if operator==sum:\n",
    "            return num1+num2\n",
    "        elif operator==substraction:\n",
    "            return num1-num2\n",
    "        elif operator==multiplication:\n",
    "            return num1*num2\n",
    "        elif operator==division:\n",
    "            return num1/num2\n",
    "        else:\n",
    "            print(\"Enter a valid operator.\")\n",
    "            return None\n",
    "    except TypeError:\n",
    "        print(\"Please, enter a valid input.\")\n",
    "        return None\n",
    "    except ZeroDivisionError:\n",
    "        print(\"No number is divisible by 0.\")\n",
    "        return None"
   ]
  },
  {
   "cell_type": "code",
   "execution_count": 64,
   "id": "57f9afc7-8626-443c-9c3e-eb78ef503193",
   "metadata": {},
   "outputs": [
    {
     "name": "stdin",
     "output_type": "stream",
     "text": [
      "Please enter the first number: 2\n",
      "Please enter the second number: 0\n",
      "Which operation do you want to do? Please enter 'sum, substraction, division or multiplication' division\n"
     ]
    },
    {
     "name": "stdout",
     "output_type": "stream",
     "text": [
      "No number is divisible by 0\n"
     ]
    }
   ],
   "source": [
    "def calculator():\n",
    "    try:\n",
    "        num1=float(input(\"Please enter the first number:\"))\n",
    "        num2=float(input(\"Please enter the second number:\"))\n",
    "        user=input(\"Which operation do you want to do? Please enter 'sum, substraction, division or multiplication'\")\n",
    "        while True:\n",
    "            if user==\"sum\":\n",
    "                return num1+num2\n",
    "            elif user==\"substraction\":\n",
    "                return num1-num2\n",
    "            elif user==\"division\":\n",
    "                return num1/num2\n",
    "            elif user==\"multiplication\":\n",
    "                return num1*num2\n",
    "            else:\n",
    "                user = input(\"Please enter a valid operation ('sum', 'substraction', 'division', or 'multiplication'): \")\n",
    "    except ValueError:\n",
    "        print(\"Please enter a valid input\")\n",
    "        return None\n",
    "    except ZeroDivisionError:\n",
    "        print(\"No number is divisible by 0\")\n",
    "        return None"
   ]
  },
  {
   "cell_type": "code",
   "execution_count": 68,
   "id": "ff3e816c-13ab-447d-a6f2-bb47a8fad2e2",
   "metadata": {},
   "outputs": [],
   "source": [
    "def multi_calculator(operator,*nums): \n",
    "    try:\n",
    "        if not all(isinstance(num,(int,float))for num in nums):\n",
    "            raise TypeError(\"All inputs must be numbers (integers or floats)\")\n",
    "            \n",
    "        result=nums[0]\n",
    "        \n",
    "        if operator==\"sum\":\n",
    "            for num in nums[1:]:\n",
    "                result+=num\n",
    "        elif operator==\"substraction\":\n",
    "            for num in nums[1:]:\n",
    "                result-=num\n",
    "        elif operator==\"multiplication\":\n",
    "            for num in nums[1:]:\n",
    "                result*=num\n",
    "        elif operator==\"division\":\n",
    "            for num in nums[1:]:\n",
    "                result/=num\n",
    "        else:\n",
    "            print(\"Enter a valid operator\")\n",
    "        return result\n",
    "    except TypeError:\n",
    "        print(\"Please enter integers\")\n",
    "    except ZeroDivisionError:\n",
    "        print(\"No number is divisible by 0\")"
   ]
  },
  {
   "cell_type": "code",
   "execution_count": 82,
   "id": "ce2aa981-b7cf-4353-85fd-7363be7884a1",
   "metadata": {},
   "outputs": [
    {
     "data": {
      "text/plain": [
       "-7"
      ]
     },
     "execution_count": 82,
     "metadata": {},
     "output_type": "execute_result"
    }
   ],
   "source": [
    "multi_calculator(\"substraction\",3,4,5,0,1)"
   ]
  },
  {
   "cell_type": "code",
   "execution_count": 34,
   "id": "a1d55cea-96c3-4853-8220-17c0904a8816",
   "metadata": {},
   "outputs": [
    {
     "name": "stdin",
     "output_type": "stream",
     "text": [
      "How many numbers of the Fibonacci sequence do you want?: 40\n"
     ]
    },
    {
     "name": "stdout",
     "output_type": "stream",
     "text": [
      "[0, 1, 1, 2, 3, 5, 8, 13, 21, 34, 55, 89, 144, 233, 377, 610, 987, 1597, 2584, 4181, 6765, 10946, 17711, 28657, 46368, 75025, 121393, 196418, 317811, 514229, 832040, 1346269, 2178309, 3524578, 5702887, 9227465, 14930352, 24157817, 39088169, 63245986]\n"
     ]
    }
   ],
   "source": [
    "def fibonacci_sequence(n):\n",
    "    if n==0:\n",
    "        return 0\n",
    "    if n==1:\n",
    "        return 1\n",
    "    else:\n",
    "        return fibonacci_sequence(n-1)+fibonacci_sequence(n-2)\n",
    "\n",
    "def fibonacci():\n",
    "    try:\n",
    "        n=int(input(\"How many numbers of the Fibonacci sequence do you want?:\"))\n",
    "        fib_list=[fibonacci_sequence(i) for i in range(n)]\n",
    "        print(fib_list)\n",
    "    except ValueError:\n",
    "        print(\"Please you have to enter a number\")   \n",
    "\n",
    "fibonacci()"
   ]
  },
  {
   "cell_type": "code",
   "execution_count": null,
   "id": "e2b4c6cc-f834-4dc7-9880-43de53c8ec87",
   "metadata": {},
   "outputs": [],
   "source": [
    "get_unique_list Function: You implemented try-except blocks to handle TypeError exceptions. The feedback suggests refining the control flow to return a list only when there are no errors.\n",
    "\n",
    "count_case Function: Your function is well-structured and handles TypeError. The feedback highlights an opportunity to eliminate redundancy in conditions.\n",
    "\n",
    "remove_punctuation Function: Excellent work with error handling. The feedback praises your implementation for checking input types before operations.\n",
    "\n",
    "word_count Function: You effectively used try, except, and finally, with a suggestion to return the word count after processing the sentence.\n",
    "\n",
    "Calculator Functions: Good use of try-except for handling type errors and division by zero. Suggested improvements include handling flow interruptions more robustly using raise.\n",
    "\n",
    "Fibonacci Function: Great use of recursion and handling input errors. The feedback suggests adding documentation and considering optimization."
   ]
  }
 ],
 "metadata": {
  "kernelspec": {
   "display_name": "Python 3 (ipykernel)",
   "language": "python",
   "name": "python3"
  },
  "language_info": {
   "codemirror_mode": {
    "name": "ipython",
    "version": 3
   },
   "file_extension": ".py",
   "mimetype": "text/x-python",
   "name": "python",
   "nbconvert_exporter": "python",
   "pygments_lexer": "ipython3",
   "version": "3.12.4"
  }
 },
 "nbformat": 4,
 "nbformat_minor": 5
}
