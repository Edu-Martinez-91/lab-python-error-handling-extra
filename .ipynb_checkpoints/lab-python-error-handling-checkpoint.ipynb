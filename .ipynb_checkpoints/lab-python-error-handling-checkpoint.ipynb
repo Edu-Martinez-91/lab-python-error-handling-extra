{
 "cells": [
  {
   "cell_type": "markdown",
   "id": "25d7736c-ba17-4aff-b6bb-66eba20fbf4e",
   "metadata": {},
   "source": [
    "# Lab | Error Handling"
   ]
  },
  {
   "cell_type": "markdown",
   "id": "6f8e446f-16b4-4e21-92e7-9d3d1eb551b6",
   "metadata": {},
   "source": [
    "Objective: Practice how to identify, handle and recover from potential errors in Python code using try-except blocks."
   ]
  },
  {
   "cell_type": "markdown",
   "id": "e253e768-aed8-4791-a800-87add1204afa",
   "metadata": {},
   "source": [
    "## Challenge \n",
    "\n",
    "Paste here your lab *functions extra* solutions. Apply error handling techniques to each function using try-except blocks. "
   ]
  },
  {
   "cell_type": "markdown",
   "id": "9180ff86-c3fe-4152-a609-081a287fa1af",
   "metadata": {},
   "source": [
    "The try-except block in Python is designed to handle exceptions and provide a fallback mechanism when code encounters errors. By enclosing the code that could potentially throw errors in a try block, followed by specific or general exception handling in the except block, we can gracefully recover from errors and continue program execution.\n",
    "\n",
    "However, there may be cases where an input may not produce an immediate error, but still needs to be addressed. In such situations, it can be useful to explicitly raise an error using the \"raise\" keyword, either to draw attention to the issue or handle it elsewhere in the program.\n",
    "\n",
    "Modify the code to handle possible errors in Python, it is recommended to use `try-except-else-finally` blocks, incorporate the `raise` keyword where necessary, and print meaningful error messages to alert users of any issues that may occur during program execution.\n",
    "\n"
   ]
  },
  {
   "cell_type": "code",
   "execution_count": null,
   "id": "df908bed-acc6-4b67-b33a-f3b1c564a49f",
   "metadata": {},
   "outputs": [],
   "source": [
    "def get_unique_list(lst):\n",
    "    try:\n",
    "        result = list(set(lst))\n",
    "        return result\n",
    "    except TypeError as e:\n",
    "        print(\"TypeError: The element must be iterable\")\n",
    "        result = None\n",
    "    \n",
    "list_1=2,3,4,6,6,5,4,4,4,55,6\n",
    "\n",
    "get_unique_list(list_1)\n"
   ]
  },
  {
   "cell_type": "code",
   "execution_count": null,
   "id": "7d5c8e34-a116-4428-ab9d-e0e15e338fff",
   "metadata": {},
   "outputs": [],
   "source": [
    "def count_case(string):\n",
    "    try:\n",
    "        if not isinstance(string,str):\n",
    "            raise ValueError(\"Input must be a string.\")\n",
    "        string_upp=sum([1 for i in string if i.isupper()])\n",
    "        string_low=sum([1 for i in string if i.islower()])\n",
    "        return f\"Uppercase count: {string_upp}, Lowercase count: {string_low}, tuple: {string_upp,string_low}.\"\n",
    "\n",
    "    except ValueError as e:\n",
    "        return str(e)\n",
    "\n",
    "texto=\"Me caso la semana que viene. Me llevaré a alguien como invitado.\"\n",
    "\n",
    "\n",
    "count_case(texto)"
   ]
  },
  {
   "cell_type": "code",
   "execution_count": null,
   "id": "c15b91d4-cfd6-423b-9f36-76012b8792b8",
   "metadata": {},
   "outputs": [],
   "source": [
    "import string\n",
    "\n",
    "def remove_punctuation(sentence):\n",
    "    try:\n",
    "        if not isinstance(sentence, str):\n",
    "            return \"Error: The input must be a string.\"\n",
    "        translator = str.maketrans('', '', string.punctuation)  \n",
    "        sentence_new = sentence.translate(translator)\n",
    "        return sentence_new.strip()\n",
    "    except ValueError as e:\n",
    "        return str(e)\n",
    "\n",
    "remove_punctuation(texto)"
   ]
  },
  {
   "cell_type": "code",
   "execution_count": null,
   "id": "ff8fc44b-3715-44c3-86aa-a9b83a2f247a",
   "metadata": {},
   "outputs": [],
   "source": [
    "def word_count(sentence):\n",
    "    try:\n",
    "        if not isinstance(sentence, str): \n",
    "            return \"Error: The argument must be a string.\"\n",
    "        translator = str.maketrans('', '', string.punctuation) \n",
    "        new_sentence = sentence.translate(translator).split()\n",
    "        return len(new_sentence)\n",
    "    except Exception as e:\n",
    "        print(f\"An error occured: {e}\")\n",
    "txt=\"\"\"Counts the number of words in a given sentence. To do this properly, first it removes punctuation from the sentence. Note: A word is defined as a sequence of characters separated by spaces. We can assume that there will be no leading or trailing spaces in the input sentence.\"\"\"\n",
    "\n",
    "word_count(txt)"
   ]
  },
  {
   "cell_type": "code",
   "execution_count": null,
   "id": "9c314ca2-9cdb-488b-8f26-6a89a1a55858",
   "metadata": {},
   "outputs": [],
   "source": [
    "def suma(num1,num2):\n",
    "    try:\n",
    "        result=num1+num2\n",
    "        return result\n",
    "    except TypeError:\n",
    "        print(\"You cannot add a string with a digit\")\n",
    "        return None\n",
    "\n",
    "def substraction(num1,num2):\n",
    "    try:\n",
    "        result=num1-num2\n",
    "        return result\n",
    "    except TypeError:\n",
    "        print(\"No string is substractable from another\")\n",
    "        return None\n",
    "        \n",
    "def multiplication(num1,num2):\n",
    "    try:\n",
    "        result=num1*num2\n",
    "        return result\n",
    "    except TypeError:\n",
    "        print(\"Please, two integers are needed as arguments\")\n",
    "        return None\n",
    "\n",
    "def division(num1,num2):\n",
    "    try:\n",
    "        result=num1/num2\n",
    "        return result\n",
    "    except ZeroDivisionError:\n",
    "        print(\"No number is divisible by 0\")\n",
    "        return None\n",
    "    except TypeError:\n",
    "        print(\"Please, two integers are needed as arguments\")\n",
    "        return None\n",
    "\n",
    "def simple_calculator(num1,num2,operator):\n",
    "    try:\n",
    "        if operator==sum:\n",
    "            return num1+num2\n",
    "        elif operator==substraction:\n",
    "            return num1-num2\n",
    "        elif operator==multiplication:\n",
    "            return num1*num2\n",
    "        elif operator==division:\n",
    "            return num1/num2\n",
    "        else:\n",
    "            print(\"Enter a valid operator.\")\n",
    "            return None\n",
    "    except TypeError:\n",
    "        print(\"Please, enter a valid input.\")\n",
    "        return None\n",
    "    except ZeroDivisionError:\n",
    "        print(\"No number is divisible by 0.\")\n",
    "        return None"
   ]
  },
  {
   "cell_type": "code",
   "execution_count": null,
   "id": "57f9afc7-8626-443c-9c3e-eb78ef503193",
   "metadata": {},
   "outputs": [],
   "source": [
    "def calculator():\n",
    "    try:\n",
    "        num1=float(input(\"Please enter the first number:\"))\n",
    "        num2=float(input(\"Please enter the second number:\"))\n",
    "        user=input(\"Which operation do you want to do? Please enter 'sum, substraction, division or multiplication'\")\n",
    "        while True:\n",
    "            if user==\"sum\":\n",
    "                return num1+num2\n",
    "            elif user==\"substraction\":\n",
    "                return num1-num2\n",
    "            elif user==\"division\":\n",
    "                return num1/num2\n",
    "            elif user==\"multiplication\":\n",
    "                return num1*num2\n",
    "            else:\n",
    "                user = input(\"Please enter a valid operation ('sum', 'substraction', 'division', or 'multiplication'): \")\n",
    "    except ValueError:\n",
    "        print(\"Please enter a valid input\")\n",
    "        return None\n",
    "    except ZeroDivisionError:\n",
    "        print(\"No number is divisible by 0\")\n",
    "        return None"
   ]
  },
  {
   "cell_type": "code",
   "execution_count": null,
   "id": "ff3e816c-13ab-447d-a6f2-bb47a8fad2e2",
   "metadata": {},
   "outputs": [],
   "source": [
    "def multi_calculator(operator,*nums): \n",
    "    try:\n",
    "        if not all(isinstance(num,(int,float))for num in nums):\n",
    "            raise TypeError(\"All inputs must be numbers (integers or floats)\")\n",
    "            \n",
    "        result=nums[0]\n",
    "        \n",
    "        if operator==\"sum\":\n",
    "            for num in nums[1:]:\n",
    "                result+=num\n",
    "        elif operator==\"substraction\":\n",
    "            for num in nums[1:]:\n",
    "                result-=num\n",
    "        elif operator==\"multiplication\":\n",
    "            for num in nums[1:]:\n",
    "                result*=num\n",
    "        elif operator==\"division\":\n",
    "            for num in nums[1:]:\n",
    "                result/=num\n",
    "        else:\n",
    "            print(\"Enter a valid operator\")\n",
    "        return result\n",
    "    except TypeError:\n",
    "        print(\"Please enter integers\")\n",
    "    except ZeroDivisionError:\n",
    "        print(\"No number is divisible by 0\")"
   ]
  },
  {
   "cell_type": "code",
   "execution_count": null,
   "id": "ce2aa981-b7cf-4353-85fd-7363be7884a1",
   "metadata": {},
   "outputs": [],
   "source": [
    "multi_calculator(\"substraction\",3,4,5,0,1)"
   ]
  },
  {
   "cell_type": "code",
   "execution_count": null,
   "id": "34698f2e-cdea-489a-8558-233ae6eff1df",
   "metadata": {},
   "outputs": [],
   "source": [
    "from functools import lru_cache\n",
    "\n",
    "@lru_cache(maxsize=None)\n",
    "def fibonacci_sequence(n):\n",
    "    if n == 0:\n",
    "        return 0\n",
    "    elif n == 1:\n",
    "        return 1\n",
    "    else:\n",
    "        return fibonacci_sequence(n - 1) + fibonacci_sequence(n - 2)\n",
    "\n",
    "def fibonacci():\n",
    "    try:\n",
    "        n = int(input(\"How many numbers of the Fibonacci sequence do you want?: \"))\n",
    "        if n < 0:\n",
    "            raise ValueError(\"Please enter a non-negative integer.\")\n",
    "        fib_list = [fibonacci_sequence(i) for i in range(n)]\n",
    "        print(fib_list)\n",
    "    except ValueError as e:\n",
    "        print(f\"Invalid input: {e}. Please enter a valid number.\")\n",
    "\n",
    "fibonacci()"
   ]
  },
  {
   "cell_type": "code",
   "execution_count": null,
   "id": "7162a11f-a99a-4094-8dd8-16f8562349fa",
   "metadata": {},
   "outputs": [],
   "source": []
  }
 ],
 "metadata": {
  "kernelspec": {
   "display_name": "Python 3 (ipykernel)",
   "language": "python",
   "name": "python3"
  },
  "language_info": {
   "codemirror_mode": {
    "name": "ipython",
    "version": 3
   },
   "file_extension": ".py",
   "mimetype": "text/x-python",
   "name": "python",
   "nbconvert_exporter": "python",
   "pygments_lexer": "ipython3",
   "version": "3.12.4"
  }
 },
 "nbformat": 4,
 "nbformat_minor": 5
}
