{
 "cells": [
  {
   "cell_type": "markdown",
   "id": "25d7736c-ba17-4aff-b6bb-66eba20fbf4e",
   "metadata": {},
   "source": [
    "# Lab | Error Handling"
   ]
  },
  {
   "cell_type": "markdown",
   "id": "6f8e446f-16b4-4e21-92e7-9d3d1eb551b6",
   "metadata": {},
   "source": [
    "Objective: Practice how to identify, handle and recover from potential errors in Python code using try-except blocks."
   ]
  },
  {
   "cell_type": "markdown",
   "id": "e253e768-aed8-4791-a800-87add1204afa",
   "metadata": {},
   "source": [
    "## Challenge \n",
    "\n",
    "Paste here your lab *functions extra* solutions. Apply error handling techniques to each function using try-except blocks. "
   ]
  },
  {
   "cell_type": "markdown",
   "id": "9180ff86-c3fe-4152-a609-081a287fa1af",
   "metadata": {},
   "source": [
    "The try-except block in Python is designed to handle exceptions and provide a fallback mechanism when code encounters errors. By enclosing the code that could potentially throw errors in a try block, followed by specific or general exception handling in the except block, we can gracefully recover from errors and continue program execution.\n",
    "\n",
    "However, there may be cases where an input may not produce an immediate error, but still needs to be addressed. In such situations, it can be useful to explicitly raise an error using the \"raise\" keyword, either to draw attention to the issue or handle it elsewhere in the program.\n",
    "\n",
    "Modify the code to handle possible errors in Python, it is recommended to use `try-except-else-finally` blocks, incorporate the `raise` keyword where necessary, and print meaningful error messages to alert users of any issues that may occur during program execution.\n",
    "\n"
   ]
  },
  {
   "cell_type": "code",
   "execution_count": 90,
   "id": "df908bed-acc6-4b67-b33a-f3b1c564a49f",
   "metadata": {},
   "outputs": [
    {
     "data": {
      "text/plain": [
       "[2, 3, 4, 5, 6, 55]"
      ]
     },
     "execution_count": 90,
     "metadata": {},
     "output_type": "execute_result"
    }
   ],
   "source": [
    "def get_unique_list(lst):\n",
    "    try: \n",
    "        set_1=set(lst)\n",
    "    except TypeError:\n",
    "        print(\"TypeError: The element must be iterable\")\n",
    "        return None\n",
    "    else:\n",
    "        lst=list(set_1)\n",
    "        return lst \n",
    "    \n",
    "list_1=2,3,4,6,6,5,4,4,4,55,6\n",
    "\n",
    "get_unique_list(list_1)\n"
   ]
  },
  {
   "cell_type": "code",
   "execution_count": 92,
   "id": "7d5c8e34-a116-4428-ab9d-e0e15e338fff",
   "metadata": {},
   "outputs": [
    {
     "data": {
      "text/plain": [
       "'Uppercase count: 2, Lowercase count: 49, tuple: (2, 49).'"
      ]
     },
     "execution_count": 92,
     "metadata": {},
     "output_type": "execute_result"
    }
   ],
   "source": [
    "def count_case(string):\n",
    "    if not isinstance(string,str):\n",
    "        return \"TypeError: The input must be a string.\"\n",
    "    string_upp=sum([1 for i in string if i.isupper()])\n",
    "    string_low=sum([1 for i in string if i.islower()])\n",
    "\n",
    "    return f\"Uppercase count: {string_upp}, Lowercase count: {string_low}, tuple: {string_upp,string_low}.\"\n",
    "\n",
    "texto=\"Me caso la semana que viene. Me llevaré a alguien como invitado.\"\n",
    "\n",
    "count_case(texto)"
   ]
  },
  {
   "cell_type": "code",
   "execution_count": 100,
   "id": "c15b91d4-cfd6-423b-9f36-76012b8792b8",
   "metadata": {},
   "outputs": [
    {
     "data": {
      "text/plain": [
       "'No quiero más lentejas Deja de molestarme agobiarme incordiarme Me has entendido'"
      ]
     },
     "execution_count": 100,
     "metadata": {},
     "output_type": "execute_result"
    }
   ],
   "source": [
    "import string\n",
    "\n",
    "def remove_punctuation(sentence):\n",
    "    \"\"\"Remove specified punctuation marks from a sentence.\"\"\"\n",
    "    if not isinstance(sentence, str):\n",
    "        return \"Error: The input must be a string.\"\n",
    "    translator = str.maketrans('', '', string.punctuation)  \n",
    "    sentence_new = sentence.translate(translator)\n",
    "    return sentence_new.strip()\n",
    "\n",
    "remove_punctuation(texto)"
   ]
  },
  {
   "cell_type": "code",
   "execution_count": 98,
   "id": "ff8fc44b-3715-44c3-86aa-a9b83a2f247a",
   "metadata": {},
   "outputs": [
    {
     "data": {
      "text/plain": [
       "49"
      ]
     },
     "execution_count": 98,
     "metadata": {},
     "output_type": "execute_result"
    }
   ],
   "source": [
    "def word_count(sentence):\n",
    "    if not isinstance(sentence, str): \n",
    "        return \"Error: The argument must be a string.\"\n",
    "    translator = str.maketrans('', '', string.punctuation) \n",
    "    new_sentence = sentence.translate(translator).split()\n",
    "    return len(new_sentence)\n",
    "txt=\"\"\"Counts the number of words in a given sentence. To do this properly, first it removes punctuation from the sentence. Note: A word is defined as a sequence of characters separated by spaces. We can assume that there will be no leading or trailing spaces in the input sentence.\"\"\"\n",
    "\n",
    "word_count(txt)"
   ]
  },
  {
   "cell_type": "code",
   "execution_count": 101,
   "id": "9c314ca2-9cdb-488b-8f26-6a89a1a55858",
   "metadata": {},
   "outputs": [],
   "source": [
    "def suma(num1,num2):\n",
    "    try:\n",
    "        result=num1+num2\n",
    "        return result\n",
    "    except TypeError:\n",
    "        print(\"You cannot add a string with a digit\")\n",
    "        return None\n",
    "\n",
    "def substraction(num1,num2):\n",
    "    try:\n",
    "        result=num1-num2\n",
    "        return result\n",
    "    except TypeError:\n",
    "        print(\"No string is substractable from another\")\n",
    "        return None\n",
    "        \n",
    "def multiplication(num1,num2):\n",
    "    try:\n",
    "        result=num1*num2\n",
    "        return result\n",
    "    except TypeError:\n",
    "        print(\"Please, two integers are needed as arguments\")\n",
    "        return None\n",
    "\n",
    "def division(num1,num2):\n",
    "    try:\n",
    "        result=num1/num2\n",
    "        return result\n",
    "    except ZeroDivisionError:\n",
    "        print(\"No number is divisible by 0\")\n",
    "        return None\n",
    "    except TypeError:\n",
    "        print(\"Please, two integers are needed as arguments\")\n",
    "        return None\n",
    "\n",
    "def simple_calculator(num1,num2,operator):\n",
    "    try:\n",
    "        if operator==sum:\n",
    "            return num1+num2\n",
    "        elif operator==substraction:\n",
    "            return num1-num2\n",
    "        elif operator==multiplication:\n",
    "            return num1*num2\n",
    "        elif operator==division:\n",
    "            return num1/num2\n",
    "        else:\n",
    "            print(\"Enter a valid operator.\")\n",
    "            return None\n",
    "    except TypeError:\n",
    "        print(\"Please, enter a valid input.\")\n",
    "        return None\n",
    "    except ZeroDivisionError:\n",
    "        print(\"No number is divisible by 0.\")\n",
    "        return None"
   ]
  },
  {
   "cell_type": "code",
   "execution_count": 64,
   "id": "57f9afc7-8626-443c-9c3e-eb78ef503193",
   "metadata": {},
   "outputs": [
    {
     "name": "stdin",
     "output_type": "stream",
     "text": [
      "Please enter the first number: 2\n",
      "Please enter the second number: 0\n",
      "Which operation do you want to do? Please enter 'sum, substraction, division or multiplication' division\n"
     ]
    },
    {
     "name": "stdout",
     "output_type": "stream",
     "text": [
      "No number is divisible by 0\n"
     ]
    }
   ],
   "source": [
    "def calculator():\n",
    "    try:\n",
    "        num1=float(input(\"Please enter the first number:\"))\n",
    "        num2=float(input(\"Please enter the second number:\"))\n",
    "        user=input(\"Which operation do you want to do? Please enter 'sum, substraction, division or multiplication'\")\n",
    "        while True:\n",
    "            if user==\"sum\":\n",
    "                return num1+num2\n",
    "            elif user==\"substraction\":\n",
    "                return num1-num2\n",
    "            elif user==\"division\":\n",
    "                return num1/num2\n",
    "            elif user==\"multiplication\":\n",
    "                return num1*num2\n",
    "            else:\n",
    "                user = input(\"Please enter a valid operation ('sum', 'substraction', 'division', or 'multiplication'): \")\n",
    "    except ValueError:\n",
    "        print(\"Please enter a valid input\")\n",
    "        return None\n",
    "    except ZeroDivisionError:\n",
    "        print(\"No number is divisible by 0\")\n",
    "        return None"
   ]
  },
  {
   "cell_type": "code",
   "execution_count": 68,
   "id": "ff3e816c-13ab-447d-a6f2-bb47a8fad2e2",
   "metadata": {},
   "outputs": [],
   "source": [
    "def multi_calculator(operator,*nums): \n",
    "    try:\n",
    "        if not all(isinstance(num,(int,float))for num in nums):\n",
    "            raise TypeError(\"All inputs must be numbers (integers or floats)\")\n",
    "            \n",
    "        result=nums[0]\n",
    "        \n",
    "        if operator==\"sum\":\n",
    "            for num in nums[1:]:\n",
    "                result+=num\n",
    "        elif operator==\"substraction\":\n",
    "            for num in nums[1:]:\n",
    "                result-=num\n",
    "        elif operator==\"multiplication\":\n",
    "            for num in nums[1:]:\n",
    "                result*=num\n",
    "        elif operator==\"division\":\n",
    "            for num in nums[1:]:\n",
    "                result/=num\n",
    "        else:\n",
    "            print(\"Enter a valid operator\")\n",
    "        return result\n",
    "    except TypeError:\n",
    "        print(\"Please enter integers\")\n",
    "    except ZeroDivisionError:\n",
    "        print(\"No number is divisible by 0\")"
   ]
  },
  {
   "cell_type": "code",
   "execution_count": 82,
   "id": "ce2aa981-b7cf-4353-85fd-7363be7884a1",
   "metadata": {},
   "outputs": [
    {
     "data": {
      "text/plain": [
       "-7"
      ]
     },
     "execution_count": 82,
     "metadata": {},
     "output_type": "execute_result"
    }
   ],
   "source": [
    "multi_calculator(\"substraction\",3,4,5,0,1)"
   ]
  },
  {
   "cell_type": "code",
   "execution_count": 116,
   "id": "34698f2e-cdea-489a-8558-233ae6eff1df",
   "metadata": {},
   "outputs": [
    {
     "name": "stdin",
     "output_type": "stream",
     "text": [
      "How many numbers of the Fibonacci sequence do you want?:  60\n"
     ]
    },
    {
     "name": "stdout",
     "output_type": "stream",
     "text": [
      "[0, 1, 1, 2, 3, 5, 8, 13, 21, 34, 55, 89, 144, 233, 377, 610, 987, 1597, 2584, 4181, 6765, 10946, 17711, 28657, 46368, 75025, 121393, 196418, 317811, 514229, 832040, 1346269, 2178309, 3524578, 5702887, 9227465, 14930352, 24157817, 39088169, 63245986, 102334155, 165580141, 267914296, 433494437, 701408733, 1134903170, 1836311903, 2971215073, 4807526976, 7778742049, 12586269025, 20365011074, 32951280099, 53316291173, 86267571272, 139583862445, 225851433717, 365435296162, 591286729879, 956722026041]\n"
     ]
    }
   ],
   "source": [
    "from functools import lru_cache\n",
    "\n",
    "@lru_cache(maxsize=None)\n",
    "def fibonacci_sequence(n):\n",
    "    if n == 0:\n",
    "        return 0\n",
    "    elif n == 1:\n",
    "        return 1\n",
    "    else:\n",
    "        return fibonacci_sequence(n - 1) + fibonacci_sequence(n - 2)\n",
    "\n",
    "def fibonacci():\n",
    "    try:\n",
    "        n = int(input(\"How many numbers of the Fibonacci sequence do you want?: \"))\n",
    "        if n < 0:\n",
    "            print(\"Please enter a non-negative integer.\")\n",
    "            return\n",
    "        fib_list = [fibonacci_sequence(i) for i in range(n)]\n",
    "        print(fib_list)\n",
    "    except ValueError:\n",
    "        print(\"Please enter a valid number.\")\n",
    "\n",
    "fibonacci()"
   ]
  },
  {
   "cell_type": "code",
   "execution_count": null,
   "id": "62526ab6-332c-42d8-b2b6-4b7ece1b457e",
   "metadata": {},
   "outputs": [],
   "source": []
  }
 ],
 "metadata": {
  "kernelspec": {
   "display_name": "Python 3 (ipykernel)",
   "language": "python",
   "name": "python3"
  },
  "language_info": {
   "codemirror_mode": {
    "name": "ipython",
    "version": 3
   },
   "file_extension": ".py",
   "mimetype": "text/x-python",
   "name": "python",
   "nbconvert_exporter": "python",
   "pygments_lexer": "ipython3",
   "version": "3.12.4"
  }
 },
 "nbformat": 4,
 "nbformat_minor": 5
}
